{
 "cells": [
  {
   "cell_type": "code",
   "execution_count": null,
   "id": "96aeeaee",
   "metadata": {},
   "outputs": [],
   "source": [
    "import random\n",
    "import numpy as np\n",
    "from scipy.stats import norm\n",
    "import matplotlib.pyplot as plt\n",
    "import matplotlib.patches as mpatches\n",
    "from deap import creator, base, tools, algorithms"
   ]
  },
  {
   "cell_type": "markdown",
   "metadata": {},
   "source": [
    "## Setup"
   ]
  },
  {
   "cell_type": "code",
   "execution_count": null,
   "metadata": {},
   "outputs": [],
   "source": [
    "creator.create(\"FitnessMax\", base.Fitness, weights=(1.0,))\n",
    "creator.create(\"Individual\", list, fitness=creator.FitnessMax)"
   ]
  },
  {
   "cell_type": "code",
   "execution_count": null,
   "metadata": {},
   "outputs": [],
   "source": [
    "toolbox = base.Toolbox()"
   ]
  },
  {
   "cell_type": "code",
   "execution_count": null,
   "metadata": {},
   "outputs": [],
   "source": [
    "toolbox.register(\"teste\", random.randint, 0, 3)\n",
    "toolbox.register(\"individual\", tools.initRepeat, creator.Individual, toolbox.teste, n=100)\n",
    "toolbox.register(\"population\", tools.initRepeat, list, toolbox.individual)"
   ]
  },
  {
   "cell_type": "code",
   "execution_count": null,
   "metadata": {},
   "outputs": [],
   "source": [
    "def evalOneMax(individual):\n",
    "    return sum(individual)"
   ]
  },
  {
   "cell_type": "code",
   "execution_count": null,
   "metadata": {},
   "outputs": [],
   "source": [
    "toolbox.register(\"evaluate\", evalOneMax)\n",
    "# toolbox.register(\"mate\", tools.cxTwoPoints)\n",
    "toolbox.register(\"mate\", tools.cxOnePoint)\n",
    "# toolbox.register(\"mutate\", tools.mutFlipBit, indpb=0.05)\n",
    "toolbox.register(\"mutate\", tools.mutShuffleIndexes, indpb=0.05)\n",
    "# toolbox.register(\"select\", tools.selTournament, tournsize=3)\n",
    "toolbox.register(\"select\", tools.selStochasticUniversalSampling, k=3)"
   ]
  },
  {
   "cell_type": "code",
   "execution_count": null,
   "metadata": {},
   "outputs": [],
   "source": [
    "stats = tools.Statistics(key=lambda ind: ind.fitness.values)\n",
    "stats.register(\"avg\", np.mean)\n",
    "stats.register(\"std\", np.std)\n",
    "stats.register(\"min\", np.min)\n",
    "stats.register(\"max\", np.max)"
   ]
  },
  {
   "cell_type": "markdown",
   "metadata": {},
   "source": [
    "## Indivudos"
   ]
  },
  {
   "cell_type": "code",
   "execution_count": null,
   "metadata": {},
   "outputs": [],
   "source": [
    "population = toolbox.population(n=1000)"
   ]
  },
  {
   "cell_type": "code",
   "execution_count": null,
   "metadata": {},
   "outputs": [],
   "source": [
    "len(population)"
   ]
  },
  {
   "cell_type": "code",
   "execution_count": null,
   "metadata": {},
   "outputs": [],
   "source": [
    "len(population[0])"
   ]
  },
  {
   "cell_type": "code",
   "execution_count": null,
   "metadata": {},
   "outputs": [],
   "source": [
    "NGEN = 300\n",
    "history = []\n",
    "for gen in range(NGEN):\n",
    "    offspring = algorithms.varAnd(population, toolbox, cxpb=0.6, mutpb=0.3)\n",
    "    fits = toolbox.map(toolbox.evaluate, offspring)\n",
    "    for fit, ind in zip(fits, offspring):\n",
    "        ind.fitness.values = (fit,)\n",
    "    population = toolbox.select(offspring, k=len(population))\n",
    "\n",
    "    history.append(stats.compile(population))\n",
    "    \n",
    "    print(f\"GEN ({gen+1:^5}) - {history[gen]}\")"
   ]
  },
  {
   "cell_type": "code",
   "execution_count": null,
   "metadata": {},
   "outputs": [],
   "source": [
    "\n",
    "top10 = tools.selBest(population, k=10)\n",
    "\"\"\"\n",
    "GEN ( 296 ) - {'avg': 296.807, 'std': 1.4169513047384514, 'min': 279.0, 'max': 297.0}\n",
    "GEN ( 297 ) - {'avg': 296.803, 'std': 1.5505453879200057, 'min': 279.0, 'max': 297.0}\n",
    "GEN ( 298 ) - {'avg': 296.71, 'std': 1.8968131167829898, 'min': 276.0, 'max': 297.0}\n",
    "GEN ( 299 ) - {'avg': 296.674, 'std': 1.7457731811435298, 'min': 282.0, 'max': 297.0}\n",
    "GEN ( 300 ) - {'avg': 296.63, 'std': 1.9123545696339888, 'min': 279.0, 'max': 297.0}\"\"\""
   ]
  },
  {
   "cell_type": "code",
   "execution_count": null,
   "metadata": {},
   "outputs": [],
   "source": [
    "avg = [h['avg'] for h in history]\n",
    "std = [h['std'] for h in history]\n",
    "min = [h['min'] for h in history]\n",
    "max = [h['max'] for h in history]"
   ]
  },
  {
   "cell_type": "markdown",
   "metadata": {},
   "source": []
  },
  {
   "cell_type": "code",
   "execution_count": null,
   "metadata": {},
   "outputs": [],
   "source": [
    "x_axis = range(1, len(history)+1)\n",
    "\n",
    "plt.subplot(2, 1, 1)\n",
    "\n",
    "plt.plot(x_axis, avg)\n",
    "blue_patch = mpatches.Patch(color='blue', label='AVG')\n",
    "\n",
    "plt.plot(x_axis, min)\n",
    "green_patch = mpatches.Patch(color='green', label='Min')\n",
    "\n",
    "plt.plot(x_axis, max)\n",
    "orange_patch = mpatches.Patch(color='orange', label='Max')\n",
    "plt.legend(handles=[blue_patch, green_patch, orange_patch])\n",
    "\n",
    "plt.title(\"Genetic Algorithm\")\n",
    "plt.xlabel(\"Generations\")\n",
    "plt.ylabel(\"Score\")\n",
    "\n",
    "#plot 2:\n",
    "plt.subplot(2, 1, 2)\n",
    "\n",
    "plt.plot(x_axis, std, color='red')\n",
    "red_patch = mpatches.Patch(color='red', label='Max')\n",
    "plt.legend(handles=[red_patch])\n",
    "\n",
    "plt.xlabel(\"Generations\")\n",
    "plt.ylabel(\"Score\")\n",
    "\n",
    "plt.show()\n",
    "\n",
    "# f = plt.figure()\n",
    "# f.set_figwidth(20)\n",
    "# f.set_figheight(15)"
   ]
  },
  {
   "cell_type": "markdown",
   "metadata": {},
   "source": []
  },
  {
   "cell_type": "markdown",
   "metadata": {},
   "source": [
    "**TODO**\n",
    "\n",
    "- Implementar algoritmo genético\n",
    "- Fazer gráfico\n",
    "- Comentários"
   ]
  },
  {
   "cell_type": "code",
   "execution_count": null,
   "metadata": {},
   "outputs": [],
   "source": [
    "random.gauss(0, 1)"
   ]
  },
  {
   "cell_type": "code",
   "execution_count": null,
   "metadata": {},
   "outputs": [],
   "source": [
    "convert = lambda func, y: func(y)"
   ]
  },
  {
   "cell_type": "code",
   "execution_count": null,
   "metadata": {},
   "outputs": [],
   "source": [
    "type(convert)"
   ]
  },
  {
   "cell_type": "code",
   "execution_count": null,
   "metadata": {},
   "outputs": [],
   "source": [
    "\n",
    "convert(float, 3)"
   ]
  },
  {
   "cell_type": "code",
   "execution_count": null,
   "metadata": {},
   "outputs": [],
   "source": [
    "convert(int, '2')"
   ]
  },
  {
   "cell_type": "code",
   "execution_count": null,
   "metadata": {},
   "outputs": [],
   "source": [
    "convert(str, 1223)"
   ]
  },
  {
   "cell_type": "code",
   "execution_count": null,
   "metadata": {},
   "outputs": [],
   "source": [
    "from scoop import futures"
   ]
  },
  {
   "cell_type": "code",
   "execution_count": null,
   "metadata": {},
   "outputs": [],
   "source": [
    "help(futures.map)"
   ]
  },
  {
   "cell_type": "code",
   "execution_count": null,
   "metadata": {},
   "outputs": [],
   "source": [
    "class Pessoa:\n",
    "    def __init__(self, name):\n",
    "        self.name = name\n",
    "\n",
    "    def get_name(self):\n",
    "        return self.name\n",
    "\n",
    "    def __call__(self, teste):\n",
    "        return f'Meu nome é {self.name} krai {teste}'\n",
    "\n",
    "    def __lt__(self, obj):\n",
    "        return self.name > obj.name\n",
    "    \n",
    "    def __str__(self):\n",
    "        return self.name"
   ]
  },
  {
   "cell_type": "code",
   "execution_count": null,
   "metadata": {},
   "outputs": [],
   "source": [
    "can = Pessoa('Cangerana')\n",
    "tet = Pessoa('aTeste')\n",
    "tet1 = Pessoa('dTeste')\n",
    "tet2 = Pessoa('zTeste')\n",
    "tet3 = Pessoa('cTeste')\n",
    "tet4 = Pessoa('bTeste')"
   ]
  },
  {
   "cell_type": "code",
   "execution_count": null,
   "metadata": {},
   "outputs": [],
   "source": [
    "a = sorted([tet, tet1, tet2, tet3, can, tet4])"
   ]
  },
  {
   "cell_type": "code",
   "execution_count": null,
   "metadata": {},
   "outputs": [],
   "source": [
    "for o in a:\n",
    "    print(o)"
   ]
  },
  {
   "cell_type": "code",
   "execution_count": null,
   "metadata": {},
   "outputs": [],
   "source": []
  }
 ],
 "metadata": {
  "interpreter": {
   "hash": "e80f5bb4b653085589ae6889e4a1fafad8f63fe37a388580990154327ebb9537"
  },
  "kernelspec": {
   "display_name": "Python 3.8.12 64-bit ('facu': conda)",
   "name": "python3"
  },
  "language_info": {
   "codemirror_mode": {
    "name": "ipython",
    "version": 3
   },
   "file_extension": ".py",
   "mimetype": "text/x-python",
   "name": "python",
   "nbconvert_exporter": "python",
   "pygments_lexer": "ipython3",
   "version": "3.8.12"
  }
 },
 "nbformat": 4,
 "nbformat_minor": 5
}
